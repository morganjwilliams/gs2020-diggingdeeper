{
 "cells": [
  {
   "cell_type": "markdown",
   "metadata": {},
   "source": [
    "# Digging Into Deep Time and Deep Cover\n",
    "\n",
    "<a href=\"https://doi.org/10.5281/zenodo.3875779\"><img src=\"https://zenodo.org/badge/DOI/10.5281/zenodo.3875779.svg\" align=\"right\" alt=\"doi: 10.5281/zenodo.3875779\" style=\"padding: 0px 10px 10px 0px\"></a>\n",
    "<a href=\"https://github.com/morganjwilliams/gs2020-diggingdeeper/blob/master/LICENSE\"><img src=\"https://img.shields.io/badge/License-MIT-blue.svg\" align=\"right\" alt=\"License: MIT\" style=\"padding: 0px 10px 10px 0px\"></a>\n",
    "\n",
    "\n",
    "<span id='authors'><b>Morgan Williams <a class=\"fa fa-twitter\" aria-hidden=\"true\" href=\"https://twitter.com/metasomite\" title=\"@metasomite\"></a></b>, Jens Klump, Steve Barnes and Fang Huang; </span>\n",
    "<span id='affiliation'><em>CSIRO Mineral Resources</em></span>\n",
    "\n",
    "\n",
    "### Contents\n",
    "\n",
    "\n",
    "| [**Abstract**](./00_overview.ipynb) | **Introduction**                                                    | [**Examples**](./00_overview.ipynb#Examples)            | [**Tools**](./00_overview.ipynb#Tools) | [**Insights**](./00_overview.ipynb#Insights) |\n",
    "|:-----|:-----|:-----|:-----|:-----|\n",
    "|  | [Minerals Exploration](./00_overview.ipynb#Mineral-Exploration)  | [Classification](./011_classification.ipynb) |  |  |\n",
    "|  | [Data Driven Geochem](./00_overview.ipynb#Data-Driven-Geochemistry) | [Regression](./012_regression.ipynb) |  |  |\n",
    "|  |  | [Data Visualization](./013_datavis.ipynb) | |  |"
   ]
  },
  {
   "cell_type": "markdown",
   "metadata": {},
   "source": [
    "## Regression\n",
    "\n",
    "* Uncertainties\n",
    "* Time and space are hard, and typically undersampled.\n",
    "* Multimodal prediction - e.g. Rosetta"
   ]
  },
  {
   "cell_type": "markdown",
   "metadata": {},
   "source": [
    "### The Concept of Rosetta\n",
    "\n",
    "Provide probabilistic chemistry and mineralogy predictions using hyperspectral images of drill cores."
   ]
  },
  {
   "cell_type": "markdown",
   "metadata": {},
   "source": [
    "------\n",
    "\n",
    "### Index\n",
    "\n",
    "| [**Abstract**](./00_overview.ipynb) | **Introduction**                                                    | [**Examples**](./00_overview.ipynb#Examples)            | [**Tools**](./00_overview.ipynb#Tools) | [**Insights**](./00_overview.ipynb#Insights) |\n",
    "|:-----|:-----|:-----|:-----|:-----|\n",
    "|  | [Minerals Exploration](./00_overview.ipynb#Mineral-Exploration)  | [Classification](./011_classification.ipynb) |  |  |\n",
    "|  | [Data Driven Geochem](./00_overview.ipynb#Data-Driven-Geochemistry) | [Regression](./012_regression.ipynb) |  |  |\n",
    "|  |  | [Data Visualization](./013_datavis.ipynb) | |  |"
   ]
  }
 ],
 "metadata": {
  "kernelspec": {
   "display_name": "Python 3",
   "language": "python",
   "name": "python3"
  },
  "language_info": {
   "codemirror_mode": {
    "name": "ipython",
    "version": 3
   },
   "file_extension": ".py",
   "mimetype": "text/x-python",
   "name": "python",
   "nbconvert_exporter": "python",
   "pygments_lexer": "ipython3",
   "version": "3.7.4"
  }
 },
 "nbformat": 4,
 "nbformat_minor": 4
}
