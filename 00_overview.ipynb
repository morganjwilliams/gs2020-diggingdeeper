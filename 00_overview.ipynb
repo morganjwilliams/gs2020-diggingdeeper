{
 "cells": [
  {
   "cell_type": "code",
   "execution_count": 2,
   "metadata": {},
   "outputs": [],
   "source": [
    "%matplotlib widget\n",
    "import numpy as np\n",
    "import matplotlib.pyplot as plt\n",
    "from util import render_audio_sample"
   ]
  },
  {
   "cell_type": "markdown",
   "metadata": {},
   "source": [
    "# Digging Into Deep Time and Deep Cover\n",
    "\n",
    "<span id='authors'><b>Morgan Williams</b>, Jens Klump, Steve Barnes and Fang Huang; </span>\n",
    "<span id='affiliation'><em>CSIRO Mineral Resources</em></span>\n",
    "\n",
    "[**Abstract**](./00_overview.ipynb) | \n",
    "**Context:**\n",
    "[Minerals Exploration](./01_context.ipynb#Mineral-Exploration),\n",
    "[Data Driven Science](./01_context.ipynb#Data-Driven-Science) | \n",
    "**Examples:** \n",
    "[Classification](./02_examples.ipynb#Classification),\n",
    "[Regression](./02_examples.ipynb#Regression),\n",
    "[Data Exploration](./02_examples.ipynb#Data-Exploration) |\n",
    "[**Tools**](./03_tools.ipynb) |\n",
    "[**Towards Insight**](./04_towardsinsight.ipynb) "
   ]
  },
  {
   "cell_type": "markdown",
   "metadata": {},
   "source": [
    "<details>\n",
    "    <summary>About this Presentation</summary>\n",
    " \n",
    " This is a Binder-enabled repository to accompany the abstract\n",
    "[\"Digging into Deep Time & Deep Cover\"](\n",
    "https://goldschmidt.info/2020/abstracts/abstractView?id=2020003649\n",
    ") for [Goldschmidt 2020 Session 06h](\n",
    "https://goldschmidt.info/2020/program/programViewThemes#period_472_4730_12338\n",
    ") (Development of Big Data Geochemical Networks and new Analysis and Visualization\n",
    "tools: Innovative approaches for 21st Century Multidimensional and Transdisciplinary\n",
    "Science; 13:45-14:45 Thursday June 25 AWST / 19:45-20:45 Wednesday June 24 HST). To view the un-rendered notebooks, have a look at the [repository on GitHub](https://github.com/morganjwilliams/gs2020_diggingdeeper).\n",
    "\n",
    "This presentation has been constructed using <a href=\"https://jupyter.org\">Jupyter notebooks</a> and <a href=\"https://voila.readthedocs.io\">Voilà</a> as an experiment in combining what would typically be found in a conference presentation with live-rendered interactive elements as a way to demonstrate aspects of software.,\n",
    "    \n",
    "</details>\n",
    "\n",
    "<div class='alert alert-info'>\n",
    "    <b>Note</b>: The final versions of these notebooks are on the way, check back soon.\n",
    "<div>"
   ]
  },
  {
   "cell_type": "markdown",
   "metadata": {},
   "source": [
    "## Abstract \n",
    "Increasing volumes of open data and improved data quality allow geochemists to use data-driven approaches to address large-scale geological problems. At the same time, exploration for both base and critical metals is moving into under-explored areas with deeper cover, as a significant fraction of readily identifiable near-surface resources have likely already been discovered. With the cost of discovery increasing, predictive mineral systems science looks to better integrate and utilise both new and existing data to constrain the subsurface environment. Where we can use this data to restrict viable exploration spaces, exploration efforts may be focused to reduce cost and potentially time-to-discovery.\n",
    "\n",
    "We will demonstrate a series of data-driven and machine learning approaches to classical geological problems, principally using data from global geochemical data repositories. We’ll use multivariate whole-rock geochemistry to distinguish tectonic environments, examine shifts in global basaltic geochemistry through time, use dimensional reduction and network techniques to visualize and better understand the relationship between samples and endmembers, and use multi-modal drill core data for predictive geochemistry. These examples illustrate some of the common challenges encountered while working with geochemical data:  working across different scales, and linking geochemistry to spatiotemporal domains. We focus these towards extending existing methods through the use of multivariate statistics and visualization methods, addressing model uncertainties, and acknowledging the potential impacts of common confounding effects (such as evolution, alteration and deformation). \n",
    "\n",
    "We highlight where we can readily gain useful insight,  where we may be able to transfer methods and learning to new problems and scales, and how we can use data to drive geological knowledge, extract latent features, and perhaps identify some ‘unknown unknowns’. Finally, we demonstrate some tools which can make these methods more approachable for geochemists, such that the methods can be better integrated into established geochemical scientific workflows."
   ]
  },
  {
   "cell_type": "markdown",
   "metadata": {},
   "source": [
    "[**Abstract**](./00_overview.ipynb) | \n",
    "**Context:**\n",
    "[Minerals Exploration](./01_context.ipynb#Mineral-Exploration),\n",
    "[Data Driven Science](./01_context.ipynb#Data-Driven-Science) | \n",
    "**Examples:** \n",
    "[Classification](./02_examples.ipynb#Classification),\n",
    "[Regression](./02_examples.ipynb#Regression),\n",
    "[Data Exploration](./02_examples.ipynb#Data-Exploration) |\n",
    "[**Tools**](./03_tools.ipynb) |\n",
    "[**Towards Insight**](./04_towardsinsight.ipynb) "
   ]
  }
 ],
 "metadata": {
  "kernelspec": {
   "display_name": "Python 3",
   "language": "python",
   "name": "python3"
  },
  "language_info": {
   "codemirror_mode": {
    "name": "ipython",
    "version": 3
   },
   "file_extension": ".py",
   "mimetype": "text/x-python",
   "name": "python",
   "nbconvert_exporter": "python",
   "pygments_lexer": "ipython3",
   "version": "3.7.4"
  }
 },
 "nbformat": 4,
 "nbformat_minor": 4
}
