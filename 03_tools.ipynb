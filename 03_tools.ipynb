{
 "cells": [
  {
   "cell_type": "markdown",
   "metadata": {},
   "source": [
    "# Digging Into Deep Time and Deep Cover\n",
    "\n",
    "<span id='authors'><b>Morgan Williams</b>, Jens Klump, Steve Barnes and Fang Huang; </span>\n",
    "<span id='affiliation'><em>CSIRO Mineral Resources</em></span>\n",
    "\n",
    "[**Abstract**](./00_overview.ipynb) | \n",
    "**Context:**\n",
    "[Minerals Exploration](./01_context.ipynb#Mineral-Exploration),\n",
    "[Data Driven Science](./01_context.ipynb#Data-Driven-Science) | \n",
    "**Examples:** \n",
    "[Classification](./02_examples.ipynb#Classification),\n",
    "[Regression](./02_examples.ipynb#Regression),\n",
    "[Data Exploration](./02_examples.ipynb#Data-Exploration) |\n",
    "[**Tools**](./03_tools.ipynb) |\n",
    "[**Towards Insight**](./04_towardsinsight.ipynb) "
   ]
  },
  {
   "cell_type": "markdown",
   "metadata": {},
   "source": [
    "For more information and interactive demonstration of some of these tools, have a look at our other Goldschmidt 2020 presentation ([live presentation](https://mybinder.org/v2/gh/morganjwilliams/gs2020-python4geochem/master?urlpath=/voila/render/00_overview.ipynb), [repository](https://github.com/morganjwilliams/gs2020-python4geochem/))."
   ]
  },
  {
   "cell_type": "markdown",
   "metadata": {},
   "source": [
    "[**Abstract**](./00_overview.ipynb) | \n",
    "**Context:**\n",
    "[Minerals Exploration](./01_context.ipynb#Mineral-Exploration),\n",
    "[Data Driven Science](./01_context.ipynb#Data-Driven-Science) | \n",
    "**Examples:** \n",
    "[Classification](./02_examples.ipynb#Classification),\n",
    "[Regression](./02_examples.ipynb#Regression),\n",
    "[Data Exploration](./02_examples.ipynb#Data-Exploration) |\n",
    "[**Tools**](./03_tools.ipynb) |\n",
    "[**Towards Insight**](./04_towardsinsight.ipynb) "
   ]
  }
 ],
 "metadata": {
  "kernelspec": {
   "display_name": "Python 3",
   "language": "python",
   "name": "python3"
  },
  "language_info": {
   "codemirror_mode": {
    "name": "ipython",
    "version": 3
   },
   "file_extension": ".py",
   "mimetype": "text/x-python",
   "name": "python",
   "nbconvert_exporter": "python",
   "pygments_lexer": "ipython3",
   "version": "3.7.4"
  }
 },
 "nbformat": 4,
 "nbformat_minor": 4
}
