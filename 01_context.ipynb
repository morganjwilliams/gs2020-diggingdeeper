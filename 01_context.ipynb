{
 "cells": [
  {
   "cell_type": "markdown",
   "metadata": {},
   "source": [
    "# Digging Into Deep Time and Deep Cover\n",
    "\n",
    "<span id='authors'><b>Morgan Williams</b>, Jens Klump, Steve Barnes and Fang Huang; </span>\n",
    "<span id='affiliation'><em>CSIRO Mineral Resources</em></span>\n",
    "\n",
    "[**Abstract**](./00_overview.ipynb) | \n",
    "**Context:**\n",
    "[Minerals Exploration](./01_context.ipynb#Mineral-Exploration),\n",
    "[Data Driven Science](./01_context.ipynb#Data-Driven-Science) | \n",
    "**Examples:** \n",
    "[Classification](./02_examples.ipynb#Classification),\n",
    "[Regression](./02_examples.ipynb#Regression),\n",
    "[Data Exploration](./02_examples.ipynb#Data-Exploration) |\n",
    "[**Tools**](./03_tools.ipynb) |\n",
    "[**Towards Insight**](./04_towardsinsight.ipynb) "
   ]
  },
  {
   "cell_type": "markdown",
   "metadata": {},
   "source": [
    "Making the most of the data we have to answer the right questions.\n",
    "\n",
    "Using geochemistry to contribute to geological models, and analysing potential uncertainties.\n",
    "\n",
    "Climate change, a shift towards renewable energy, and demand for modern technology\n",
    "\n",
    "Critical and battery minerals\n"
   ]
  },
  {
   "cell_type": "markdown",
   "metadata": {},
   "source": [
    "# Mineral Exploration"
   ]
  },
  {
   "cell_type": "markdown",
   "metadata": {},
   "source": [
    "Where does mineral exploration fit into this picture? The start of a value chain, with a relatively long lead time to resource development\n",
    "\n",
    "Source, Transport, Sink - geochem is useful for identifying the subtleties of the first two\n",
    "\n",
    "What is there left to discover\n",
    "\n",
    "Where is it? \n",
    "\n",
    "What's under cover? The subsurface leaves a lot to be desired\n",
    "\n",
    "Getting information on the right scales is important\n",
    "\n",
    "Geochemistry is one tool which can be used for exploration under cover, but not necessarily in the same way you'd explore in exposed terranes (e.g. groundwaters, dispersal, detrital indicators), and you'll have a hard time reducing search space without larger-scale information from e.g. geophysics and larger-scale structural information\n",
    "\n",
    "Budgets are relatively tight for exploration, so what can we get out of our existing data to reduce search spaces\n",
    "\n",
    "Closer to real-time information, active sampling\n",
    "\n",
    "Integrating what we know with new data makes both more valuable, we can sample systems better, and get some constraints on potential risks\n",
    "\n",
    "### Prospectivity\n",
    "\n",
    "Mineral deposits are often unique, but the environments we find them in exhibit similarites we can exploit on larger scales\n",
    "\n",
    "### Potential Fertility\n",
    "\n",
    "Even where an area may be prospective, the system may not be 'fertile' for forming mineral deposits"
   ]
  },
  {
   "cell_type": "markdown",
   "metadata": {},
   "source": [
    "# Data Driven Science"
   ]
  },
  {
   "cell_type": "markdown",
   "metadata": {},
   "source": [
    "A relatively data-rich age\n",
    "\n",
    "Asking the right questions\n",
    "\n",
    "What are the questions related to mineral exploration?\n",
    "\n",
    "* How can I search the most prospective areas?\n",
    "\n",
    "How can we do the things we're already doing better?"
   ]
  },
  {
   "cell_type": "markdown",
   "metadata": {},
   "source": [
    "[**Abstract**](./00_overview.ipynb) | \n",
    "**Context:**\n",
    "[Minerals Exploration](./01_context.ipynb#Mineral-Exploration),\n",
    "[Data Driven Science](./01_context.ipynb#Data-Driven-Science) | \n",
    "**Examples:** \n",
    "[Classification](./02_examples.ipynb#Classification),\n",
    "[Regression](./02_examples.ipynb#Regression),\n",
    "[Data Exploration](./02_examples.ipynb#Data-Exploration) |\n",
    "[**Tools**](./03_tools.ipynb) |\n",
    "[**Towards Insight**](./04_towardsinsight.ipynb) "
   ]
  }
 ],
 "metadata": {
  "kernelspec": {
   "display_name": "Python 3",
   "language": "python",
   "name": "python3"
  },
  "language_info": {
   "codemirror_mode": {
    "name": "ipython",
    "version": 3
   },
   "file_extension": ".py",
   "mimetype": "text/x-python",
   "name": "python",
   "nbconvert_exporter": "python",
   "pygments_lexer": "ipython3",
   "version": "3.7.4"
  }
 },
 "nbformat": 4,
 "nbformat_minor": 4
}
