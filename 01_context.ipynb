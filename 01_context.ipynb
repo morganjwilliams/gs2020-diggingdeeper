{
 "cells": [
  {
   "cell_type": "markdown",
   "metadata": {},
   "source": [
    "# Digging Into Deep Time and Deep Cover\n",
    "\n",
    "<span id='authors'><b>Morgan Williams</b>, Jens Klump, Steve Barnes and Fang Huang; </span>\n",
    "<span id='affiliation'><em>CSIRO Mineral Resources</em></span>\n",
    "\n",
    "[**Abstract**](/voila/render/00_overview.ipynb) | \n",
    "**Context:**\n",
    "[Minerals Exploration](/voila/render/01_context.ipynb#Mineral-Exploration),\n",
    "[Data Driven Science](/voila/render/01_context.ipynb#Data-Driven-Science) | \n",
    "**Examples:** \n",
    "[Classification](/voila/render/02_examples.ipynb#Classification),\n",
    "[Regression](/voila/render/02_examples.ipynb#Regression),\n",
    "[Data Exploration](/voila/render/02_examples.ipynb#Data-Exploration) |\n",
    "[**Tools**](/voila/render/03_tools.ipynb) |\n",
    "[**Towards Insight**](/voila/render/04_towardsinsight.ipynb) "
   ]
  },
  {
   "cell_type": "markdown",
   "metadata": {},
   "source": [
    "Lorem ipsum dolor sit amet, consectetur adipiscing elit. Nullam ac ex facilisis, vehicula purus et, dapibus ligula. Sed luctus, tortor non porta scelerisque, est arcu eleifend massa, at accumsan ligula turpis quis libero. Phasellus bibendum iaculis scelerisque. Nulla tristique felis vel volutpat fermentum. Nunc a malesuada risus. Vestibulum ac vehicula arcu, sed lobortis velit. Morbi efficitur dapibus hendrerit. Pellentesque venenatis leo ut risus finibus venenatis eget sed nisi. Maecenas nibh orci, tempor sit amet dictum ac, mattis sit amet justo. Curabitur ipsum libero, fermentum quis elementum ut, tincidunt in lectus. Nam quis luctus lectus, et venenatis neque. "
   ]
  },
  {
   "cell_type": "markdown",
   "metadata": {},
   "source": [
    "# Mineral Exploration"
   ]
  },
  {
   "cell_type": "markdown",
   "metadata": {},
   "source": [
    "Lorem ipsum dolor sit amet, consectetur adipiscing elit. Nullam ac ex facilisis, vehicula purus et, dapibus ligula. Sed luctus, tortor non porta scelerisque, est arcu eleifend massa, at accumsan ligula turpis quis libero. Phasellus bibendum iaculis scelerisque. Nulla tristique felis vel volutpat fermentum. Nunc a malesuada risus. Vestibulum ac vehicula arcu, sed lobortis velit. Morbi efficitur dapibus hendrerit. Pellentesque venenatis leo ut risus finibus venenatis eget sed nisi. Maecenas nibh orci, tempor sit amet dictum ac, mattis sit amet justo. Curabitur ipsum libero, fermentum quis elementum ut, tincidunt in lectus. Nam quis luctus lectus, et venenatis neque. "
   ]
  },
  {
   "cell_type": "markdown",
   "metadata": {},
   "source": [
    "Lorem ipsum dolor sit amet, consectetur adipiscing elit. Nullam ac ex facilisis, vehicula purus et, dapibus ligula. Sed luctus, tortor non porta scelerisque, est arcu eleifend massa, at accumsan ligula turpis quis libero. Phasellus bibendum iaculis scelerisque. Nulla tristique felis vel volutpat fermentum. Nunc a malesuada risus. Vestibulum ac vehicula arcu, sed lobortis velit. Morbi efficitur dapibus hendrerit. Pellentesque venenatis leo ut risus finibus venenatis eget sed nisi. Maecenas nibh orci, tempor sit amet dictum ac, mattis sit amet justo. Curabitur ipsum libero, fermentum quis elementum ut, tincidunt in lectus. Nam quis luctus lectus, et venenatis neque. \n",
    "Lorem ipsum dolor sit amet, consectetur adipiscing elit. Nullam ac ex facilisis, vehicula purus et, dapibus ligula. Sed luctus, tortor non porta scelerisque, est arcu eleifend massa, at accumsan ligula turpis quis libero. Phasellus bibendum iaculis scelerisque. Nulla tristique felis vel volutpat fermentum. Nunc a malesuada risus. Vestibulum ac vehicula arcu, sed lobortis velit. Morbi efficitur dapibus hendrerit. Pellentesque venenatis leo ut risus finibus venenatis eget sed nisi. Maecenas nibh orci, tempor sit amet dictum ac, mattis sit amet justo. Curabitur ipsum libero, fermentum quis elementum ut, tincidunt in lectus. Nam quis luctus lectus, et venenatis neque. \n",
    "Lorem ipsum dolor sit amet, consectetur adipiscing elit. Nullam ac ex facilisis, vehicula purus et, dapibus ligula. Sed luctus, tortor non porta scelerisque, est arcu eleifend massa, at accumsan ligula turpis quis libero. Phasellus bibendum iaculis scelerisque. Nulla tristique felis vel volutpat fermentum. Nunc a malesuada risus. Vestibulum ac vehicula arcu, sed lobortis velit. Morbi efficitur dapibus hendrerit. Pellentesque venenatis leo ut risus finibus venenatis eget sed nisi. Maecenas nibh orci, tempor sit amet dictum ac, mattis sit amet justo. Curabitur ipsum libero, fermentum quis elementum ut, tincidunt in lectus. Nam quis luctus lectus, et venenatis neque. \n",
    "Lorem ipsum dolor sit amet, consectetur adipiscing elit. Nullam ac ex facilisis, vehicula purus et, dapibus ligula. Sed luctus, tortor non porta scelerisque, est arcu eleifend massa, at accumsan ligula turpis quis libero. Phasellus bibendum iaculis scelerisque. Nulla tristique felis vel volutpat fermentum. Nunc a malesuada risus. Vestibulum ac vehicula arcu, sed lobortis velit. Morbi efficitur dapibus hendrerit. Pellentesque venenatis leo ut risus finibus venenatis eget sed nisi. Maecenas nibh orci, tempor sit amet dictum ac, mattis sit amet justo. Curabitur ipsum libero, fermentum quis elementum ut, tincidunt in lectus. Nam quis luctus lectus, et venenatis neque. \n",
    "Lorem ipsum dolor sit amet, consectetur adipiscing elit. Nullam ac ex facilisis, vehicula purus et, dapibus ligula. Sed luctus, tortor non porta scelerisque, est arcu eleifend massa, at accumsan ligula turpis quis libero. Phasellus bibendum iaculis scelerisque. Nulla tristique felis vel volutpat fermentum. Nunc a malesuada risus. Vestibulum ac vehicula arcu, sed lobortis velit. Morbi efficitur dapibus hendrerit. Pellentesque venenatis leo ut risus finibus venenatis eget sed nisi. Maecenas nibh orci, tempor sit amet dictum ac, mattis sit amet justo. Curabitur ipsum libero, fermentum quis elementum ut, tincidunt in lectus. Nam quis luctus lectus, et venenatis neque. \n",
    "Lorem ipsum dolor sit amet, consectetur adipiscing elit. Nullam ac ex facilisis, vehicula purus et, dapibus ligula. Sed luctus, tortor non porta scelerisque, est arcu eleifend massa, at accumsan ligula turpis quis libero. Phasellus bibendum iaculis scelerisque. Nulla tristique felis vel volutpat fermentum. Nunc a malesuada risus. Vestibulum ac vehicula arcu, sed lobortis velit. Morbi efficitur dapibus hendrerit. Pellentesque venenatis leo ut risus finibus venenatis eget sed nisi. Maecenas nibh orci, tempor sit amet dictum ac, mattis sit amet justo. Curabitur ipsum libero, fermentum quis elementum ut, tincidunt in lectus. Nam quis luctus lectus, et venenatis neque. \n",
    "Lorem ipsum dolor sit amet, consectetur adipiscing elit. Nullam ac ex facilisis, vehicula purus et, dapibus ligula. Sed luctus, tortor non porta scelerisque, est arcu eleifend massa, at accumsan ligula turpis quis libero. Phasellus bibendum iaculis scelerisque. Nulla tristique felis vel volutpat fermentum. Nunc a malesuada risus. Vestibulum ac vehicula arcu, sed lobortis velit. Morbi efficitur dapibus hendrerit. Pellentesque venenatis leo ut risus finibus venenatis eget sed nisi. Maecenas nibh orci, tempor sit amet dictum ac, mattis sit amet justo. Curabitur ipsum libero, fermentum quis elementum ut, tincidunt in lectus. Nam quis luctus lectus, et venenatis neque. \n",
    "\n",
    "Lorem ipsum dolor sit amet, consectetur adipiscing elit. Nullam ac ex facilisis, vehicula purus et, dapibus ligula. Sed luctus, tortor non porta scelerisque, est arcu eleifend massa, at accumsan ligula turpis quis libero. Phasellus bibendum iaculis scelerisque. Nulla tristique felis vel volutpat fermentum. Nunc a malesuada risus. Vestibulum ac vehicula arcu, sed lobortis velit. Morbi efficitur dapibus hendrerit. Pellentesque venenatis leo ut risus finibus venenatis eget sed nisi. Maecenas nibh orci, tempor sit amet dictum ac, mattis sit amet justo. Curabitur ipsum libero, fermentum quis elementum ut, tincidunt in lectus. Nam quis luctus lectus, et venenatis neque. \n",
    "\n",
    "Lorem ipsum dolor sit amet, consectetur adipiscing elit. Nullam ac ex facilisis, vehicula purus et, dapibus ligula. Sed luctus, tortor non porta scelerisque, est arcu eleifend massa, at accumsan ligula turpis quis libero. Phasellus bibendum iaculis scelerisque. Nulla tristique felis vel volutpat fermentum. Nunc a malesuada risus. Vestibulum ac vehicula arcu, sed lobortis velit. Morbi efficitur dapibus hendrerit. Pellentesque venenatis leo ut risus finibus venenatis eget sed nisi. Maecenas nibh orci, tempor sit amet dictum ac, mattis sit amet justo. Curabitur ipsum libero, fermentum quis elementum ut, tincidunt in lectus. Nam quis luctus lectus, et venenatis neque. \n",
    "\n",
    "Lorem ipsum dolor sit amet, consectetur adipiscing elit. Nullam ac ex facilisis, vehicula purus et, dapibus ligula. Sed luctus, tortor non porta scelerisque, est arcu eleifend massa, at accumsan ligula turpis quis libero. Phasellus bibendum iaculis scelerisque. Nulla tristique felis vel volutpat fermentum. Nunc a malesuada risus. Vestibulum ac vehicula arcu, sed lobortis velit. Morbi efficitur dapibus hendrerit. Pellentesque venenatis leo ut risus finibus venenatis eget sed nisi. Maecenas nibh orci, tempor sit amet dictum ac, mattis sit amet justo. Curabitur ipsum libero, fermentum quis elementum ut, tincidunt in lectus. Nam quis luctus lectus, et venenatis neque. "
   ]
  },
  {
   "cell_type": "markdown",
   "metadata": {},
   "source": [
    "# Data Driven Science"
   ]
  },
  {
   "cell_type": "markdown",
   "metadata": {},
   "source": [
    "Lorem ipsum dolor sit amet, consectetur adipiscing elit. Nullam ac ex facilisis, vehicula purus et, dapibus ligula. Sed luctus, tortor non porta scelerisque, est arcu eleifend massa, at accumsan ligula turpis quis libero. Phasellus bibendum iaculis scelerisque. Nulla tristique felis vel volutpat fermentum. Nunc a malesuada risus. Vestibulum ac vehicula arcu, sed lobortis velit. Morbi efficitur dapibus hendrerit. Pellentesque venenatis leo ut risus finibus venenatis eget sed nisi. Maecenas nibh orci, tempor sit amet dictum ac, mattis sit amet justo. Curabitur ipsum libero, fermentum quis elementum ut, tincidunt in lectus. Nam quis luctus lectus, et venenatis neque. \n",
    "\n",
    "Lorem ipsum dolor sit amet, consectetur adipiscing elit. Nullam ac ex facilisis, vehicula purus et, dapibus ligula. Sed luctus, tortor non porta scelerisque, est arcu eleifend massa, at accumsan ligula turpis quis libero. Phasellus bibendum iaculis scelerisque. Nulla tristique felis vel volutpat fermentum. Nunc a malesuada risus. Vestibulum ac vehicula arcu, sed lobortis velit. Morbi efficitur dapibus hendrerit. Pellentesque venenatis leo ut risus finibus venenatis eget sed nisi. Maecenas nibh orci, tempor sit amet dictum ac, mattis sit amet justo. Curabitur ipsum libero, fermentum quis elementum ut, tincidunt in lectus. Nam quis luctus lectus, et venenatis neque. \n",
    "Lorem ipsum dolor sit amet, consectetur adipiscing elit. Nullam ac ex facilisis, vehicula purus et, dapibus ligula. Sed luctus, tortor non porta scelerisque, est arcu eleifend massa, at accumsan ligula turpis quis libero. Phasellus bibendum iaculis scelerisque. Nulla tristique felis vel volutpat fermentum. Nunc a malesuada risus. Vestibulum ac vehicula arcu, sed lobortis velit. Morbi efficitur dapibus hendrerit. Pellentesque venenatis leo ut risus finibus venenatis eget sed nisi. Maecenas nibh orci, tempor sit amet dictum ac, mattis sit amet justo. Curabitur ipsum libero, fermentum quis elementum ut, tincidunt in lectus. Nam quis luctus lectus, et venenatis neque. "
   ]
  },
  {
   "cell_type": "code",
   "execution_count": null,
   "metadata": {},
   "outputs": [],
   "source": []
  }
 ],
 "metadata": {
  "kernelspec": {
   "display_name": "Python 3",
   "language": "python",
   "name": "python3"
  },
  "language_info": {
   "codemirror_mode": {
    "name": "ipython",
    "version": 3
   },
   "file_extension": ".py",
   "mimetype": "text/x-python",
   "name": "python",
   "nbconvert_exporter": "python",
   "pygments_lexer": "ipython3",
   "version": "3.7.4"
  }
 },
 "nbformat": 4,
 "nbformat_minor": 4
}
